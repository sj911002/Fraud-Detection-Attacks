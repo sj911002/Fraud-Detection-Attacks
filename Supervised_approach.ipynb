{
  "nbformat": 4,
  "nbformat_minor": 0,
  "metadata": {
    "colab": {
      "name": "Supervised_approach.ipynb",
      "provenance": []
    },
    "kernelspec": {
      "name": "python3",
      "display_name": "Python 3"
    },
    "language_info": {
      "name": "python"
    }
  },
  "cells": [
    {
      "cell_type": "markdown",
      "metadata": {
        "id": "sdXoadNC5wuU"
      },
      "source": [
        "## Fraud Detection (Supervised approach)\n",
        "\n",
        "**Contents:**\n",
        "1. Loading the data\n",
        "2. Data Visualization\n",
        "3. Resampling the data using SMOTE\n",
        "4. Fraud Detection (classification tasks)\n",
        "5. Evaluation metrics"
      ]
    },
    {
      "cell_type": "code",
      "metadata": {
        "id": "t7uVrz1AutS5"
      },
      "source": [
        "import numpy as np\n",
        "import pandas as pd\n",
        "import seaborn as sns\n",
        "import matplotlib.pyplot as plt\n",
        "\n",
        "from imblearn.over_sampling import SMOTE\n",
        "from imblearn.over_sampling import BorderlineSMOTE\n",
        "from imblearn.pipeline import Pipeline \n",
        "\n",
        "from sklearn.linear_model import LogisticRegression\n",
        "from sklearn.ensemble import RandomForestClassifier\n",
        "from sklearn.tree import DecisionTreeClassifier\n",
        "from sklearn.model_selection import train_test_split\n",
        "from sklearn.metrics import r2_score, classification_report, confusion_matrix, accuracy_score, roc_auc_score, roc_curve, precision_recall_curve, average_precision_score"
      ],
      "execution_count": null,
      "outputs": []
    },
    {
      "cell_type": "code",
      "metadata": {
        "colab": {
          "base_uri": "https://localhost:8080/",
          "height": 226
        },
        "id": "8HCoRaxdujux",
        "outputId": "5c1f6142-cd72-483c-c87f-7f5a3413cb8f"
      },
      "source": [
        "df = pd.read_csv(\"/content/drive/MyDrive/creditcard.csv\")\n",
        "df.head()"
      ],
      "execution_count": null,
      "outputs": [
        {
          "output_type": "execute_result",
          "data": {
            "text/html": [
              "<div>\n",
              "<style scoped>\n",
              "    .dataframe tbody tr th:only-of-type {\n",
              "        vertical-align: middle;\n",
              "    }\n",
              "\n",
              "    .dataframe tbody tr th {\n",
              "        vertical-align: top;\n",
              "    }\n",
              "\n",
              "    .dataframe thead th {\n",
              "        text-align: right;\n",
              "    }\n",
              "</style>\n",
              "<table border=\"1\" class=\"dataframe\">\n",
              "  <thead>\n",
              "    <tr style=\"text-align: right;\">\n",
              "      <th></th>\n",
              "      <th>Time</th>\n",
              "      <th>V1</th>\n",
              "      <th>V2</th>\n",
              "      <th>V3</th>\n",
              "      <th>V4</th>\n",
              "      <th>V5</th>\n",
              "      <th>V6</th>\n",
              "      <th>V7</th>\n",
              "      <th>V8</th>\n",
              "      <th>V9</th>\n",
              "      <th>V10</th>\n",
              "      <th>V11</th>\n",
              "      <th>V12</th>\n",
              "      <th>V13</th>\n",
              "      <th>V14</th>\n",
              "      <th>V15</th>\n",
              "      <th>V16</th>\n",
              "      <th>V17</th>\n",
              "      <th>V18</th>\n",
              "      <th>V19</th>\n",
              "      <th>V20</th>\n",
              "      <th>V21</th>\n",
              "      <th>V22</th>\n",
              "      <th>V23</th>\n",
              "      <th>V24</th>\n",
              "      <th>V25</th>\n",
              "      <th>V26</th>\n",
              "      <th>V27</th>\n",
              "      <th>V28</th>\n",
              "      <th>Amount</th>\n",
              "      <th>Class</th>\n",
              "    </tr>\n",
              "  </thead>\n",
              "  <tbody>\n",
              "    <tr>\n",
              "      <th>0</th>\n",
              "      <td>0.0</td>\n",
              "      <td>-1.359807</td>\n",
              "      <td>-0.072781</td>\n",
              "      <td>2.536347</td>\n",
              "      <td>1.378155</td>\n",
              "      <td>-0.338321</td>\n",
              "      <td>0.462388</td>\n",
              "      <td>0.239599</td>\n",
              "      <td>0.098698</td>\n",
              "      <td>0.363787</td>\n",
              "      <td>0.090794</td>\n",
              "      <td>-0.551600</td>\n",
              "      <td>-0.617801</td>\n",
              "      <td>-0.991390</td>\n",
              "      <td>-0.311169</td>\n",
              "      <td>1.468177</td>\n",
              "      <td>-0.470401</td>\n",
              "      <td>0.207971</td>\n",
              "      <td>0.025791</td>\n",
              "      <td>0.403993</td>\n",
              "      <td>0.251412</td>\n",
              "      <td>-0.018307</td>\n",
              "      <td>0.277838</td>\n",
              "      <td>-0.110474</td>\n",
              "      <td>0.066928</td>\n",
              "      <td>0.128539</td>\n",
              "      <td>-0.189115</td>\n",
              "      <td>0.133558</td>\n",
              "      <td>-0.021053</td>\n",
              "      <td>149.62</td>\n",
              "      <td>0</td>\n",
              "    </tr>\n",
              "    <tr>\n",
              "      <th>1</th>\n",
              "      <td>0.0</td>\n",
              "      <td>1.191857</td>\n",
              "      <td>0.266151</td>\n",
              "      <td>0.166480</td>\n",
              "      <td>0.448154</td>\n",
              "      <td>0.060018</td>\n",
              "      <td>-0.082361</td>\n",
              "      <td>-0.078803</td>\n",
              "      <td>0.085102</td>\n",
              "      <td>-0.255425</td>\n",
              "      <td>-0.166974</td>\n",
              "      <td>1.612727</td>\n",
              "      <td>1.065235</td>\n",
              "      <td>0.489095</td>\n",
              "      <td>-0.143772</td>\n",
              "      <td>0.635558</td>\n",
              "      <td>0.463917</td>\n",
              "      <td>-0.114805</td>\n",
              "      <td>-0.183361</td>\n",
              "      <td>-0.145783</td>\n",
              "      <td>-0.069083</td>\n",
              "      <td>-0.225775</td>\n",
              "      <td>-0.638672</td>\n",
              "      <td>0.101288</td>\n",
              "      <td>-0.339846</td>\n",
              "      <td>0.167170</td>\n",
              "      <td>0.125895</td>\n",
              "      <td>-0.008983</td>\n",
              "      <td>0.014724</td>\n",
              "      <td>2.69</td>\n",
              "      <td>0</td>\n",
              "    </tr>\n",
              "    <tr>\n",
              "      <th>2</th>\n",
              "      <td>1.0</td>\n",
              "      <td>-1.358354</td>\n",
              "      <td>-1.340163</td>\n",
              "      <td>1.773209</td>\n",
              "      <td>0.379780</td>\n",
              "      <td>-0.503198</td>\n",
              "      <td>1.800499</td>\n",
              "      <td>0.791461</td>\n",
              "      <td>0.247676</td>\n",
              "      <td>-1.514654</td>\n",
              "      <td>0.207643</td>\n",
              "      <td>0.624501</td>\n",
              "      <td>0.066084</td>\n",
              "      <td>0.717293</td>\n",
              "      <td>-0.165946</td>\n",
              "      <td>2.345865</td>\n",
              "      <td>-2.890083</td>\n",
              "      <td>1.109969</td>\n",
              "      <td>-0.121359</td>\n",
              "      <td>-2.261857</td>\n",
              "      <td>0.524980</td>\n",
              "      <td>0.247998</td>\n",
              "      <td>0.771679</td>\n",
              "      <td>0.909412</td>\n",
              "      <td>-0.689281</td>\n",
              "      <td>-0.327642</td>\n",
              "      <td>-0.139097</td>\n",
              "      <td>-0.055353</td>\n",
              "      <td>-0.059752</td>\n",
              "      <td>378.66</td>\n",
              "      <td>0</td>\n",
              "    </tr>\n",
              "    <tr>\n",
              "      <th>3</th>\n",
              "      <td>1.0</td>\n",
              "      <td>-0.966272</td>\n",
              "      <td>-0.185226</td>\n",
              "      <td>1.792993</td>\n",
              "      <td>-0.863291</td>\n",
              "      <td>-0.010309</td>\n",
              "      <td>1.247203</td>\n",
              "      <td>0.237609</td>\n",
              "      <td>0.377436</td>\n",
              "      <td>-1.387024</td>\n",
              "      <td>-0.054952</td>\n",
              "      <td>-0.226487</td>\n",
              "      <td>0.178228</td>\n",
              "      <td>0.507757</td>\n",
              "      <td>-0.287924</td>\n",
              "      <td>-0.631418</td>\n",
              "      <td>-1.059647</td>\n",
              "      <td>-0.684093</td>\n",
              "      <td>1.965775</td>\n",
              "      <td>-1.232622</td>\n",
              "      <td>-0.208038</td>\n",
              "      <td>-0.108300</td>\n",
              "      <td>0.005274</td>\n",
              "      <td>-0.190321</td>\n",
              "      <td>-1.175575</td>\n",
              "      <td>0.647376</td>\n",
              "      <td>-0.221929</td>\n",
              "      <td>0.062723</td>\n",
              "      <td>0.061458</td>\n",
              "      <td>123.50</td>\n",
              "      <td>0</td>\n",
              "    </tr>\n",
              "    <tr>\n",
              "      <th>4</th>\n",
              "      <td>2.0</td>\n",
              "      <td>-1.158233</td>\n",
              "      <td>0.877737</td>\n",
              "      <td>1.548718</td>\n",
              "      <td>0.403034</td>\n",
              "      <td>-0.407193</td>\n",
              "      <td>0.095921</td>\n",
              "      <td>0.592941</td>\n",
              "      <td>-0.270533</td>\n",
              "      <td>0.817739</td>\n",
              "      <td>0.753074</td>\n",
              "      <td>-0.822843</td>\n",
              "      <td>0.538196</td>\n",
              "      <td>1.345852</td>\n",
              "      <td>-1.119670</td>\n",
              "      <td>0.175121</td>\n",
              "      <td>-0.451449</td>\n",
              "      <td>-0.237033</td>\n",
              "      <td>-0.038195</td>\n",
              "      <td>0.803487</td>\n",
              "      <td>0.408542</td>\n",
              "      <td>-0.009431</td>\n",
              "      <td>0.798278</td>\n",
              "      <td>-0.137458</td>\n",
              "      <td>0.141267</td>\n",
              "      <td>-0.206010</td>\n",
              "      <td>0.502292</td>\n",
              "      <td>0.219422</td>\n",
              "      <td>0.215153</td>\n",
              "      <td>69.99</td>\n",
              "      <td>0</td>\n",
              "    </tr>\n",
              "  </tbody>\n",
              "</table>\n",
              "</div>"
            ],
            "text/plain": [
              "   Time        V1        V2        V3  ...       V27       V28  Amount  Class\n",
              "0   0.0 -1.359807 -0.072781  2.536347  ...  0.133558 -0.021053  149.62      0\n",
              "1   0.0  1.191857  0.266151  0.166480  ... -0.008983  0.014724    2.69      0\n",
              "2   1.0 -1.358354 -1.340163  1.773209  ... -0.055353 -0.059752  378.66      0\n",
              "3   1.0 -0.966272 -0.185226  1.792993  ...  0.062723  0.061458  123.50      0\n",
              "4   2.0 -1.158233  0.877737  1.548718  ...  0.219422  0.215153   69.99      0\n",
              "\n",
              "[5 rows x 31 columns]"
            ]
          },
          "metadata": {},
          "execution_count": 3
        }
      ]
    },
    {
      "cell_type": "code",
      "metadata": {
        "colab": {
          "base_uri": "https://localhost:8080/"
        },
        "id": "zNs708vlusY_",
        "outputId": "2af6eb8a-7df1-4ae6-ecbb-55dcde44d98a"
      },
      "source": [
        "# Explore the features available in the dataframe\n",
        "df.info()"
      ],
      "execution_count": null,
      "outputs": [
        {
          "output_type": "stream",
          "name": "stdout",
          "text": [
            "<class 'pandas.core.frame.DataFrame'>\n",
            "RangeIndex: 284807 entries, 0 to 284806\n",
            "Data columns (total 31 columns):\n",
            " #   Column  Non-Null Count   Dtype  \n",
            "---  ------  --------------   -----  \n",
            " 0   Time    284807 non-null  float64\n",
            " 1   V1      284807 non-null  float64\n",
            " 2   V2      284807 non-null  float64\n",
            " 3   V3      284807 non-null  float64\n",
            " 4   V4      284807 non-null  float64\n",
            " 5   V5      284807 non-null  float64\n",
            " 6   V6      284807 non-null  float64\n",
            " 7   V7      284807 non-null  float64\n",
            " 8   V8      284807 non-null  float64\n",
            " 9   V9      284807 non-null  float64\n",
            " 10  V10     284807 non-null  float64\n",
            " 11  V11     284807 non-null  float64\n",
            " 12  V12     284807 non-null  float64\n",
            " 13  V13     284807 non-null  float64\n",
            " 14  V14     284807 non-null  float64\n",
            " 15  V15     284807 non-null  float64\n",
            " 16  V16     284807 non-null  float64\n",
            " 17  V17     284807 non-null  float64\n",
            " 18  V18     284807 non-null  float64\n",
            " 19  V19     284807 non-null  float64\n",
            " 20  V20     284807 non-null  float64\n",
            " 21  V21     284807 non-null  float64\n",
            " 22  V22     284807 non-null  float64\n",
            " 23  V23     284807 non-null  float64\n",
            " 24  V24     284807 non-null  float64\n",
            " 25  V25     284807 non-null  float64\n",
            " 26  V26     284807 non-null  float64\n",
            " 27  V27     284807 non-null  float64\n",
            " 28  V28     284807 non-null  float64\n",
            " 29  Amount  284807 non-null  float64\n",
            " 30  Class   284807 non-null  int64  \n",
            "dtypes: float64(30), int64(1)\n",
            "memory usage: 67.4 MB\n"
          ]
        }
      ]
    },
    {
      "cell_type": "code",
      "metadata": {
        "colab": {
          "base_uri": "https://localhost:8080/"
        },
        "id": "fM9nmT5Ru-82",
        "outputId": "1eb4cee8-4f39-4fb4-86ea-a884aedb7b4a"
      },
      "source": [
        "# Count the occurrences of fraud and no fraud and print them\n",
        "occ = df['Class'].value_counts()\n",
        "occ"
      ],
      "execution_count": null,
      "outputs": [
        {
          "output_type": "execute_result",
          "data": {
            "text/plain": [
              "0    284315\n",
              "1       492\n",
              "Name: Class, dtype: int64"
            ]
          },
          "metadata": {},
          "execution_count": 5
        }
      ]
    },
    {
      "cell_type": "code",
      "metadata": {
        "colab": {
          "base_uri": "https://localhost:8080/"
        },
        "id": "8jxvOjUbvIq0",
        "outputId": "5cffdbc3-9989-4a55-c6d6-8a41e075aa6c"
      },
      "source": [
        "# Print the ratio of fraud cases\n",
        "ratio_cases = occ/len(df.index)\n",
        "print(f'Ratio of fraudulent cases: {ratio_cases[1]}\\nRatio of non-fraudulent cases: {ratio_cases[0]}')"
      ],
      "execution_count": null,
      "outputs": [
        {
          "output_type": "stream",
          "name": "stdout",
          "text": [
            "Ratio of fraudulent cases: 0.001727485630620034\n",
            "Ratio of non-fraudulent cases: 0.9982725143693799\n"
          ]
        }
      ]
    },
    {
      "cell_type": "markdown",
      "metadata": {
        "id": "OVhdkx3vvMyV"
      },
      "source": [
        "The ratio of fraudulent transactions is very low (class imbalance present)"
      ]
    },
    {
      "cell_type": "markdown",
      "metadata": {
        "id": "CfzLP0ugveNY"
      },
      "source": [
        "## Data Vizualization"
      ]
    },
    {
      "cell_type": "code",
      "metadata": {
        "id": "RoSTMA6Svqku"
      },
      "source": [
        "def prep_data(df: pd.DataFrame) -> (np.ndarray, np.ndarray):\n",
        "    \"\"\"\n",
        "    Convert the DataFrame into two variable\n",
        "    X: data columns (V1 - V28)\n",
        "    y: lable column\n",
        "    \"\"\"\n",
        "    X = df.iloc[:, 2:30].values\n",
        "    y = df.Class.values\n",
        "    return X, y"
      ],
      "execution_count": null,
      "outputs": []
    },
    {
      "cell_type": "code",
      "metadata": {
        "id": "8knWT1YFvrsN"
      },
      "source": [
        "# A function to create a scatter plot of our data and labels\n",
        "def plot_data(X: np.ndarray, y: np.ndarray):\n",
        "    plt.scatter(X[y == 0, 0], X[y == 0, 1], label=\"Class #0\", alpha=0.5, linewidth=0.15)\n",
        "    plt.scatter(X[y == 1, 0], X[y == 1, 1], label=\"Class #1\", alpha=0.5, linewidth=0.15, c='r')\n",
        "    plt.legend()\n",
        "    return plt.show()"
      ],
      "execution_count": null,
      "outputs": []
    },
    {
      "cell_type": "code",
      "metadata": {
        "id": "fIACrQwgvvNd"
      },
      "source": [
        "X, y = prep_data(df)"
      ],
      "execution_count": null,
      "outputs": []
    },
    {
      "cell_type": "code",
      "metadata": {
        "colab": {
          "base_uri": "https://localhost:8080/",
          "height": 265
        },
        "id": "ZOY7Mh_3vz6E",
        "outputId": "e025fc1b-7846-48f1-ebb3-4ed200b779a8"
      },
      "source": [
        "plot_data(X, y)"
      ],
      "execution_count": null,
      "outputs": [
        {
          "output_type": "display_data",
          "data": {
            "image/png": "[encoded data removed]",
            "text/plain": [
              "<Figure size 432x288 with 1 Axes>"
            ]
          },
          "metadata": {
            "needs_background": "light"
          }
        }
      ]
    },
    {
      "cell_type": "code",
      "metadata": {
        "colab": {
          "base_uri": "https://localhost:8080/",
          "height": 265
        },
        "id": "cWM_eveTv3FE",
        "outputId": "7ae7180c-9234-481f-9994-0a35778d3529"
      },
      "source": [
        "plt.scatter(df.V2[df.Class == 0], df.V3[df.Class == 0], label=\"Class #0\", alpha=0.5, linewidth=0.15)\n",
        "plt.scatter(df.V2[df.Class == 1], df.V3[df.Class == 1], label=\"Class #1\", alpha=0.5, linewidth=0.15, c='r')\n",
        "plt.legend()\n",
        "plt.show()"
      ],
      "execution_count": null,
      "outputs": [
        {
          "output_type": "display_data",
          "data": {
            "image/png": "[encoded data removed]",
            "text/plain": [
              "<Figure size 432x288 with 1 Axes>"
            ]
          },
          "metadata": {
            "needs_background": "light"
          }
        }
      ]
    },
    {
      "cell_type": "markdown",
      "metadata": {
        "id": "crdXeU9Uv9LD"
      },
      "source": [
        "## SMOTE (Resampling for imbalanced datat)"
      ]
    },
    {
      "cell_type": "code",
      "metadata": {
        "id": "NhcHZegbwO3F"
      },
      "source": [
        "# Resampling using SMOTE analysis\n",
        "method = SMOTE()"
      ],
      "execution_count": null,
      "outputs": []
    },
    {
      "cell_type": "code",
      "metadata": {
        "id": "GDuF3ArhxVDA"
      },
      "source": [
        "X_resampled, y_resampled = method.fit_resample(X, y)"
      ],
      "execution_count": null,
      "outputs": []
    },
    {
      "cell_type": "code",
      "metadata": {
        "colab": {
          "base_uri": "https://localhost:8080/",
          "height": 265
        },
        "id": "dP5NMRTIw3v8",
        "outputId": "f686e60f-f2b4-4d48-d608-26cc4fa5154d"
      },
      "source": [
        "plot_data(X_resampled, y_resampled)"
      ],
      "execution_count": null,
      "outputs": [
        {
          "output_type": "display_data",
          "data": {
            "image/png": "[encoded data removed]",
            "text/plain": [
              "<Figure size 432x288 with 1 Axes>"
            ]
          },
          "metadata": {
            "needs_background": "light"
          }
        }
      ]
    },
    {
      "cell_type": "markdown",
      "metadata": {
        "id": "PAoxtKdpxn0k"
      },
      "source": [
        "### Compare SMOTE to original data"
      ]
    },
    {
      "cell_type": "code",
      "metadata": {
        "colab": {
          "base_uri": "https://localhost:8080/"
        },
        "id": "9N0-VQoZyFi9",
        "outputId": "2c48f4ee-f831-456e-a44e-1dffaebbcdcc"
      },
      "source": [
        "# Original Data\n",
        "pd.value_counts(pd.Series(y))"
      ],
      "execution_count": null,
      "outputs": [
        {
          "output_type": "execute_result",
          "data": {
            "text/plain": [
              "0    284315\n",
              "1       492\n",
              "dtype: int64"
            ]
          },
          "metadata": {},
          "execution_count": 15
        }
      ]
    },
    {
      "cell_type": "code",
      "metadata": {
        "colab": {
          "base_uri": "https://localhost:8080/"
        },
        "id": "dnE5OgAoyIB7",
        "outputId": "8cd50904-9bd3-4088-ff58-c73fc5b2c84b"
      },
      "source": [
        "# Resampled Data\n",
        "pd.value_counts(pd.Series(y_resampled))"
      ],
      "execution_count": null,
      "outputs": [
        {
          "output_type": "execute_result",
          "data": {
            "text/plain": [
              "1    284315\n",
              "0    284315\n",
              "dtype: int64"
            ]
          },
          "metadata": {},
          "execution_count": 16
        }
      ]
    },
    {
      "cell_type": "code",
      "metadata": {
        "id": "F49G-9biyO_b"
      },
      "source": [
        "def compare_plot(X: np.ndarray, y: np.ndarray, X_resampled: np.ndarray, y_resampled: np.ndarray, method: str):\n",
        "    plt.subplot(1, 2, 1)\n",
        "    plt.scatter(X[y == 0, 0], X[y == 0, 1], label=\"Class #0\", alpha=0.5, linewidth=0.15)\n",
        "    plt.scatter(X[y == 1, 0], X[y == 1, 1], label=\"Class #1\", alpha=0.5, linewidth=0.15, c='r')\n",
        "    plt.title('Original Set')\n",
        "    plt.subplot(1, 2, 2)\n",
        "    plt.scatter(X_resampled[y_resampled == 0, 0], X_resampled[y_resampled == 0, 1], label=\"Class #0\", alpha=0.5, linewidth=0.15)\n",
        "    plt.scatter(X_resampled[y_resampled == 1, 0], X_resampled[y_resampled == 1, 1], label=\"Class #1\", alpha=0.5, linewidth=0.15, c='r')\n",
        "    plt.title(method)\n",
        "    plt.legend()\n",
        "    plt.show()"
      ],
      "execution_count": null,
      "outputs": []
    },
    {
      "cell_type": "code",
      "metadata": {
        "colab": {
          "base_uri": "https://localhost:8080/",
          "height": 281
        },
        "id": "Vjb9iDrHyTjT",
        "outputId": "a84e0a9e-73eb-41af-c80a-b7870327d17e"
      },
      "source": [
        "compare_plot(X, y, X_resampled, y_resampled, method='SMOTE')"
      ],
      "execution_count": null,
      "outputs": [
        {
          "output_type": "display_data",
          "data": {
            "image/png": "[encoded data removed]",
            "text/plain": [
              "<Figure size 432x288 with 2 Axes>"
            ]
          },
          "metadata": {
            "needs_background": "light"
          }
        }
      ]
    },
    {
      "cell_type": "markdown",
      "metadata": {
        "id": "2OSlFHLyyURz"
      },
      "source": [
        "It is clear that SMOTE has balanced our data completely, and that the minority class is now equal in size to the majority class."
      ]
    },
    {
      "cell_type": "markdown",
      "metadata": {
        "id": "FHyL75tSynxk"
      },
      "source": [
        "## Fraud Detection using labeled data (Classification task)"
      ]
    },
    {
      "cell_type": "markdown",
      "metadata": {
        "id": "8NTWtT0K0FP7"
      },
      "source": [
        "We perform the classification tasks on the resampled data."
      ]
    },
    {
      "cell_type": "code",
      "metadata": {
        "id": "4cd-y3OY1s1D"
      },
      "source": [
        "predictions = []"
      ],
      "execution_count": null,
      "outputs": []
    },
    {
      "cell_type": "markdown",
      "metadata": {
        "id": "VMouhHD5zpY9"
      },
      "source": [
        "### 1. Logistic Regression "
      ]
    },
    {
      "cell_type": "code",
      "metadata": {
        "id": "buPiYQAd0Otj"
      },
      "source": [
        "resampling = BorderlineSMOTE()\n",
        "model = LogisticRegression(solver='liblinear')"
      ],
      "execution_count": null,
      "outputs": []
    },
    {
      "cell_type": "code",
      "metadata": {
        "id": "RWP6_K7O0TLG"
      },
      "source": [
        "pipeline = Pipeline([('SMOTE', resampling), ('Logistic Regression', model)])"
      ],
      "execution_count": null,
      "outputs": []
    },
    {
      "cell_type": "code",
      "metadata": {
        "id": "y_GfSgQg04iV"
      },
      "source": [
        "# Split the data X and y, into a training and a test set and fit the pipeline onto the training data\n",
        "X_train, X_test, y_train, y_test = train_test_split(X, y, test_size=0.3, random_state=0)"
      ],
      "execution_count": null,
      "outputs": []
    },
    {
      "cell_type": "code",
      "metadata": {
        "id": "03GX6LNc09AP"
      },
      "source": [
        "pipeline.fit(X_train, y_train) \n",
        "predicted = pipeline.predict(X_test)"
      ],
      "execution_count": null,
      "outputs": []
    },
    {
      "cell_type": "code",
      "metadata": {
        "colab": {
          "base_uri": "https://localhost:8080/"
        },
        "id": "EVjnvX8B1Bsr",
        "outputId": "f640c81c-31e5-485d-cf47-1432b2d83f25"
      },
      "source": [
        "# Obtain the results from the classification report and confusion matrix \n",
        "print('Classifcation report:\\n', classification_report(y_test, predicted))\n",
        "conf_mat = confusion_matrix(y_true=y_test, y_pred=predicted)\n",
        "print('Confusion matrix:\\n', conf_mat)"
      ],
      "execution_count": null,
      "outputs": [
        {
          "output_type": "stream",
          "name": "stdout",
          "text": [
            "Classifcation report:\n",
            "               precision    recall  f1-score   support\n",
            "\n",
            "           0       1.00      0.99      1.00     85296\n",
            "           1       0.19      0.86      0.31       147\n",
            "\n",
            "    accuracy                           0.99     85443\n",
            "   macro avg       0.60      0.93      0.66     85443\n",
            "weighted avg       1.00      0.99      1.00     85443\n",
            "\n",
            "Confusion matrix:\n",
            " [[84763   533]\n",
            " [   20   127]]\n"
          ]
        }
      ]
    },
    {
      "cell_type": "code",
      "metadata": {
        "id": "IztNJqlj1op7"
      },
      "source": [
        "predictions.append([predicted, y_test])"
      ],
      "execution_count": null,
      "outputs": []
    },
    {
      "cell_type": "markdown",
      "metadata": {
        "id": "SXwJzlwT2a6b"
      },
      "source": [
        "### 2. Decision Trees"
      ]
    },
    {
      "cell_type": "code",
      "metadata": {
        "id": "Hj5WHYJ82eRj"
      },
      "source": [
        "decision_tree_clf = DecisionTreeClassifier()\n",
        "# Train Decision Tree Classifer\n",
        "decision_tree_clf = decision_tree_clf.fit(X_train, y_train)\n",
        "# Predict the response for test dataset\n",
        "predicted = decision_tree_clf.predict(X_test)"
      ],
      "execution_count": null,
      "outputs": []
    },
    {
      "cell_type": "code",
      "metadata": {
        "id": "gLAPleOW3YBf"
      },
      "source": [
        "predictions.append([predicted, y_test])"
      ],
      "execution_count": null,
      "outputs": []
    },
    {
      "cell_type": "code",
      "metadata": {
        "colab": {
          "base_uri": "https://localhost:8080/"
        },
        "id": "YX_wD_-f65AM",
        "outputId": "91125846-9dbd-44ad-d45a-d8319e08405f"
      },
      "source": [
        "# Obtain the results from the classification report and confusion matrix \n",
        "print('Classifcation report:\\n', classification_report(y_test, predicted))\n",
        "conf_mat = confusion_matrix(y_true=predictions[1][1], y_pred=predictions[1][1])\n",
        "print('Confusion matrix:\\n', conf_mat)"
      ],
      "execution_count": null,
      "outputs": [
        {
          "output_type": "stream",
          "name": "stdout",
          "text": [
            "Classifcation report:\n",
            "               precision    recall  f1-score   support\n",
            "\n",
            "           0       1.00      1.00      1.00     85296\n",
            "           1       0.95      0.77      0.85       147\n",
            "\n",
            "    accuracy                           1.00     85443\n",
            "   macro avg       0.97      0.88      0.92     85443\n",
            "weighted avg       1.00      1.00      1.00     85443\n",
            "\n",
            "Confusion matrix:\n",
            " [[85296     0]\n",
            " [    0   147]]\n"
          ]
        }
      ]
    },
    {
      "cell_type": "markdown",
      "metadata": {
        "id": "F5RSpCNJ1y1X"
      },
      "source": [
        "### 3. Random Forests"
      ]
    },
    {
      "cell_type": "code",
      "metadata": {
        "id": "L4WVOZ_B2Dml"
      },
      "source": [
        "model = RandomForestClassifier()\n",
        "# Train Random Forests Classifer\n",
        "model.fit(X_train, y_train)\n",
        "# Predict the response for test dataset\n",
        "predicted = model.predict(X_test)"
      ],
      "execution_count": null,
      "outputs": []
    },
    {
      "cell_type": "code",
      "metadata": {
        "id": "XkOACz502Fur"
      },
      "source": [
        "predictions.append([predicted, y_test])"
      ],
      "execution_count": null,
      "outputs": []
    },
    {
      "cell_type": "code",
      "metadata": {
        "colab": {
          "base_uri": "https://localhost:8080/"
        },
        "id": "Pwj66FPL69bI",
        "outputId": "fa88f623-65c2-4c93-cc9f-53b380f1839b"
      },
      "source": [
        "# Obtain the results from the classification report and confusion matrix \n",
        "print('Classifcation report:\\n', classification_report(y_test, predicted))\n",
        "conf_mat = confusion_matrix(y_true=predictions[2][1], y_pred=predictions[2][0])\n",
        "print('Confusion matrix:\\n', conf_mat)"
      ],
      "execution_count": null,
      "outputs": [
        {
          "output_type": "stream",
          "name": "stdout",
          "text": [
            "Classifcation report:\n",
            "               precision    recall  f1-score   support\n",
            "\n",
            "           0       1.00      1.00      1.00     85296\n",
            "           1       0.95      0.77      0.85       147\n",
            "\n",
            "    accuracy                           1.00     85443\n",
            "   macro avg       0.97      0.88      0.92     85443\n",
            "weighted avg       1.00      1.00      1.00     85443\n",
            "\n",
            "Confusion matrix:\n",
            " [[85290     6]\n",
            " [   34   113]]\n"
          ]
        }
      ]
    },
    {
      "cell_type": "markdown",
      "metadata": {
        "id": "QTBCwm5V2Uhk"
      },
      "source": [
        "## Evaluation metircs"
      ]
    },
    {
      "cell_type": "code",
      "metadata": {
        "id": "VJvxSpDr3jR3"
      },
      "source": [
        "# Function to calculate the accuracy\n",
        "def accuracy_results(preds, y_true):\n",
        "  tp = 0\n",
        "  tn = 0\n",
        "  fp = 0 \n",
        "  fn = 0\n",
        "\n",
        "  for i in range(len(preds)):\n",
        "    if preds[i] == 1 and y_true[i] == 1:\n",
        "      tp += 1\n",
        "    elif preds[i] == 1 and y_true[i] == 0:\n",
        "      fp += 1\n",
        "    elif preds[i] == 0 and y_true[i] == 0:\n",
        "      tn += 1\n",
        "    elif preds[i] == 0 and y_true[i] == 1:\n",
        "      fn += 1\n",
        "  acc = (tp + tn) / (tp + fp + fn + tn) \n",
        "  return acc\n",
        "\n",
        "# Function to calculate the precision, recall and F1-score\n",
        "def precision_recall_f1_score(preds, y_true):\n",
        "  tp = 0\n",
        "  tn = 0\n",
        "  fn = 0\n",
        "  fp = 0\n",
        "  p = 0\n",
        "  n = 0\n",
        "  precision = 0\n",
        "  recall = 0\n",
        "  f1_score = 0\n",
        "  tpr = 0\n",
        "  fpr = 0\n",
        "  for i in range(len(y_true)):\n",
        "    if y_true[i] == 0:\n",
        "      n += 1\n",
        "    else:\n",
        "      p += 1\n",
        "  for i in range(len(preds)):\n",
        "    if preds[i] == 1 and y_true[i] == 1:\n",
        "      tp += 1\n",
        "    elif preds[i] == 1 and y_true[i] == 0:\n",
        "      fp += 1\n",
        "    elif preds[i] == 0 and y_true[i] == 0:\n",
        "      tn += 1\n",
        "    elif preds[i] == 0 and y_true[i] == 1:\n",
        "      fn += 1\n",
        "\n",
        "  precision = tp / (tp + fp)\n",
        "  recall = tp / (tp + fn)\n",
        "  if precision != 0 and recall != 0:\n",
        "    f1_score = (2 * precision * recall) / (precision + recall)\n",
        "  else:\n",
        "    f1_score = 0\n",
        "  tpr = tp / p\n",
        "  fpr = fp / n\n",
        "  return (precision, recall, f1_score, tpr, fpr)  "
      ],
      "execution_count": null,
      "outputs": []
    },
    {
      "cell_type": "code",
      "metadata": {
        "colab": {
          "base_uri": "https://localhost:8080/"
        },
        "id": "fdAfHobS3n7B",
        "outputId": "3e91026b-a8e1-410b-8163-a0aa58e50f8a"
      },
      "source": [
        "models = [\"Logistic Regression\", \"Decision Tree Classifier\", \"Random Forests Classifier\"]\n",
        "f1_array = []\n",
        "for i in range(len(predictions)):\n",
        "  pred = predictions[i][0]\n",
        "  test = predictions[i][1]\n",
        "  acc = accuracy_results(pred, test)\n",
        "  pre, rec, f1, tpr, fpr = precision_recall_f1_score(pred, test)\n",
        "  f1_array.append(f1)\n",
        "  if i == 3:\n",
        "    print(\"-----------------------------------------------------------------------------------------------\")\n",
        "    print(f\"\\nModel: {models[i]}\\n\")\n",
        "    print(f\"Accuracy: {acc}\")\n",
        "    print(\"-----------------------------------------------------------------------------------------------\")\n",
        "    continue\n",
        "  \n",
        "  precision, recall, f1_score, tpr, fpr = precision_recall_f1_score(pred, test)\n",
        "  print(\"-----------------------------------------------------------------------------------------------\")\n",
        "  print(f\"\\nModel: {models[i]}\\n\")\n",
        "  print(f\"Accuracy: {acc}\")\n",
        "  print(f\"Precision: {precision}\")\n",
        "  print(f\"Recall: {recall}\")\n",
        "  print(f\"F1-score: {f1_score}\")\n",
        "  print(f\"TPR: {tpr} \\nFPR:{fpr}\")\n",
        "  print(\"-----------------------------------------------------------------------------------------------\")"
      ],
      "execution_count": null,
      "outputs": [
        {
          "output_type": "stream",
          "name": "stdout",
          "text": [
            "-----------------------------------------------------------------------------------------------\n",
            "\n",
            "Model: Logistic Regression\n",
            "\n",
            "Accuracy: 0.9935278489753403\n",
            "Precision: 0.19242424242424241\n",
            "Recall: 0.8639455782312925\n",
            "F1-score: 0.3147459727385377\n",
            "TPR: 0.8639455782312925 \n",
            "FPR:0.006248827612080285\n",
            "-----------------------------------------------------------------------------------------------\n",
            "-----------------------------------------------------------------------------------------------\n",
            "\n",
            "Model: Decision Tree Classifier\n",
            "\n",
            "Accuracy: 0.9992977774656788\n",
            "Precision: 0.8222222222222222\n",
            "Recall: 0.7551020408163265\n",
            "F1-score: 0.7872340425531914\n",
            "TPR: 0.7551020408163265 \n",
            "FPR:0.0002813731007315701\n",
            "-----------------------------------------------------------------------------------------------\n",
            "-----------------------------------------------------------------------------------------------\n",
            "\n",
            "Model: Random Forests Classifier\n",
            "\n",
            "Accuracy: 0.9995318516437859\n",
            "Precision: 0.9495798319327731\n",
            "Recall: 0.7687074829931972\n",
            "F1-score: 0.849624060150376\n",
            "TPR: 0.7687074829931972 \n",
            "FPR:7.034327518289252e-05\n",
            "-----------------------------------------------------------------------------------------------\n"
          ]
        }
      ]
    },
    {
      "cell_type": "code",
      "metadata": {
        "colab": {
          "base_uri": "https://localhost:8080/",
          "height": 1000
        },
        "id": "g2m8Cll54AjX",
        "outputId": "8b6e65ad-d30d-4684-d800-422f82804693"
      },
      "source": [
        "from sklearn.metrics import roc_curve,roc_auc_score\n",
        "for i in range(len(predictions)):\n",
        "  pred = predictions[i][0]\n",
        "  test = predictions[i][1]\n",
        "  fpr, tpr, thresholds = roc_curve(test, pred)\n",
        "  roc_auc = roc_auc_score(test, pred)\n",
        "  print(\"-----------------------------------------------------------------------------------------------\")\n",
        "  print(f\"\\nModel: {models[i]}\\n\")\n",
        "  print(f\"ROC_AUC score: {roc_auc}\")  \n",
        "  plt.plot(fpr, tpr, 'b', label = 'AUC = %0.2f' % roc_auc)\n",
        "  plt.legend(loc = 'lower right')\n",
        "  plt.title(\"ROC Curve\")\n",
        "  plt.plot([0, 1], [0, 1],'r--')\n",
        "  plt.xlim([0, 1])\n",
        "  plt.ylim([0, 1])\n",
        "  plt.ylabel('TPR')\n",
        "  plt.xlabel('FPR')\n",
        "  plt.show();\n",
        "  print(\"-----------------------------------------------------------------------------------------------\")\n"
      ],
      "execution_count": null,
      "outputs": [
        {
          "output_type": "stream",
          "name": "stdout",
          "text": [
            "-----------------------------------------------------------------------------------------------\n",
            "\n",
            "Model: Logistic Regression\n",
            "\n",
            "ROC_AUC score: 0.9288483753096061\n"
          ]
        },
        {
          "output_type": "display_data",
          "data": {
            "image/png": "[encoded data removed]",
            "text/plain": [
              "<Figure size 432x288 with 1 Axes>"
            ]
          },
          "metadata": {
            "needs_background": "light"
          }
        },
        {
          "output_type": "stream",
          "name": "stdout",
          "text": [
            "-----------------------------------------------------------------------------------------------\n",
            "-----------------------------------------------------------------------------------------------\n",
            "\n",
            "Model: Decision Tree Classifier\n",
            "\n",
            "ROC_AUC score: 0.8774103338577974\n"
          ]
        },
        {
          "output_type": "display_data",
          "data": {
            "image/png": "[encoded data removed]",
            "text/plain": [
              "<Figure size 432x288 with 1 Axes>"
            ]
          },
          "metadata": {
            "needs_background": "light"
          }
        },
        {
          "output_type": "stream",
          "name": "stdout",
          "text": [
            "-----------------------------------------------------------------------------------------------\n",
            "-----------------------------------------------------------------------------------------------\n",
            "\n",
            "Model: Random Forests Classifier\n",
            "\n",
            "ROC_AUC score: 0.8843185698590073\n"
          ]
        },
        {
          "output_type": "display_data",
          "data": {
            "image/png": "[encoded data removed]",
            "text/plain": [
              "<Figure size 432x288 with 1 Axes>"
            ]
          },
          "metadata": {
            "needs_background": "light"
          }
        },
        {
          "output_type": "stream",
          "name": "stdout",
          "text": [
            "-----------------------------------------------------------------------------------------------\n"
          ]
        }
      ]
    },
    {
      "cell_type": "code",
      "metadata": {
        "colab": {
          "base_uri": "https://localhost:8080/",
          "height": 471
        },
        "id": "s7hsYGPL4a0f",
        "outputId": "f8288715-328b-41d9-9e08-99cc5e0833a9"
      },
      "source": [
        "# Performance of models based on F1-scores\n",
        "performance = {}\n",
        "for i in range(len(models)):\n",
        "  performance[models[i]] = f1_array[i]\n",
        "keys = performance.keys()\n",
        "values = performance.values()\n",
        "\n",
        "\n",
        "fig, ax = plt.subplots(figsize=(8,6))\n",
        "sns.barplot(x=list(keys), y=list(values), palette=\"crest\");\n",
        "plt.ylabel(\"F1-score\")\n",
        "plt.xticks(rotation=40)\n",
        "plt.title(\"Model Comparison - Model F1 scores\");"
      ],
      "execution_count": null,
      "outputs": [
        {
          "output_type": "display_data",
          "data": {
            "image/png": "[encoded data removed]",
            "text/plain": [
              "<Figure size 576x432 with 1 Axes>"
            ]
          },
          "metadata": {
            "needs_background": "light"
          }
        }
      ]
    },
    {
      "cell_type": "markdown",
      "metadata": {
        "id": "ahcCvgEE4cJz"
      },
      "source": [
        "Random Forests is the best performing model followed by Decision Tree Classifier and Logistic Regression."
      ]
    }
  ]
}