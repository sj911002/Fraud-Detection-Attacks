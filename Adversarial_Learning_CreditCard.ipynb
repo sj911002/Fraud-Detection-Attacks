{
  "nbformat": 4,
  "nbformat_minor": 0,
  "metadata": {
    "colab": {
      "name": "Adversarial_Learning_CreditCard.ipynb",
      "provenance": [],
      "collapsed_sections": []
    },
    "kernelspec": {
      "name": "python3",
      "display_name": "Python 3"
    },
    "language_info": {
      "name": "python"
    }
  },
  "cells": [
    {
      "cell_type": "markdown",
      "metadata": {
        "id": "pJOVTfS_s_DB"
      },
      "source": [
        "## Adversarial Attacks using adversarial samples (FGSM)\n",
        "\n",
        "Adversarial Examples are the well designed samples with an intention to cause machine learning to make mistake. This is done using the **Fast Gradient Sign Method**.\n",
        "FGSM involves adding noise (not random noise) whose direction is the same as the gradient of the cost function with respect to the data. The noise is scaled by epsilon, which is usually constrained to be a small number. The magnitude of gradient does not matter in this formula, but the direction (+/-).\n",
        "<br><br>\n",
        "White box attacks are those type of attacks where the attacker has access to the model's parameters. FGSM is a white box attack which uses the gradient to create adversarial examples. Since we cannot change the weights, in order to increase the cost, the only way is to change the data and thus we maxmimise the loss/cost."
      ]
    },
    {
      "cell_type": "code",
      "metadata": {
        "id": "Tq2P2QftOMpR"
      },
      "source": [
        "import numpy as np\n",
        "import pandas as pd\n",
        "import seaborn as sns\n",
        "import matplotlib.pyplot as plt\n",
        "\n",
        "from sklearn.model_selection import train_test_split\n",
        "from sklearn.metrics import confusion_matrix"
      ],
      "execution_count": null,
      "outputs": []
    },
    {
      "cell_type": "code",
      "metadata": {
        "colab": {
          "base_uri": "https://localhost:8080/",
          "height": 226
        },
        "id": "CGOpvK5POOpZ",
        "outputId": "0df23bf0-a499-44a9-d0d2-3fcd8fd187b1"
      },
      "source": [
        "credit_data = pd.read_csv(\"/content/drive/MyDrive/creditcard.csv\")\n",
        "credit_data.head()"
      ],
      "execution_count": null,
      "outputs": [
        {
          "output_type": "execute_result",
          "data": {
            "text/html": [
              "<div>\n",
              "<style scoped>\n",
              "    .dataframe tbody tr th:only-of-type {\n",
              "        vertical-align: middle;\n",
              "    }\n",
              "\n",
              "    .dataframe tbody tr th {\n",
              "        vertical-align: top;\n",
              "    }\n",
              "\n",
              "    .dataframe thead th {\n",
              "        text-align: right;\n",
              "    }\n",
              "</style>\n",
              "<table border=\"1\" class=\"dataframe\">\n",
              "  <thead>\n",
              "    <tr style=\"text-align: right;\">\n",
              "      <th></th>\n",
              "      <th>Time</th>\n",
              "      <th>V1</th>\n",
              "      <th>V2</th>\n",
              "      <th>V3</th>\n",
              "      <th>V4</th>\n",
              "      <th>V5</th>\n",
              "      <th>V6</th>\n",
              "      <th>V7</th>\n",
              "      <th>V8</th>\n",
              "      <th>V9</th>\n",
              "      <th>V10</th>\n",
              "      <th>V11</th>\n",
              "      <th>V12</th>\n",
              "      <th>V13</th>\n",
              "      <th>V14</th>\n",
              "      <th>V15</th>\n",
              "      <th>V16</th>\n",
              "      <th>V17</th>\n",
              "      <th>V18</th>\n",
              "      <th>V19</th>\n",
              "      <th>V20</th>\n",
              "      <th>V21</th>\n",
              "      <th>V22</th>\n",
              "      <th>V23</th>\n",
              "      <th>V24</th>\n",
              "      <th>V25</th>\n",
              "      <th>V26</th>\n",
              "      <th>V27</th>\n",
              "      <th>V28</th>\n",
              "      <th>Amount</th>\n",
              "      <th>Class</th>\n",
              "    </tr>\n",
              "  </thead>\n",
              "  <tbody>\n",
              "    <tr>\n",
              "      <th>0</th>\n",
              "      <td>0.0</td>\n",
              "      <td>-1.359807</td>\n",
              "      <td>-0.072781</td>\n",
              "      <td>2.536347</td>\n",
              "      <td>1.378155</td>\n",
              "      <td>-0.338321</td>\n",
              "      <td>0.462388</td>\n",
              "      <td>0.239599</td>\n",
              "      <td>0.098698</td>\n",
              "      <td>0.363787</td>\n",
              "      <td>0.090794</td>\n",
              "      <td>-0.551600</td>\n",
              "      <td>-0.617801</td>\n",
              "      <td>-0.991390</td>\n",
              "      <td>-0.311169</td>\n",
              "      <td>1.468177</td>\n",
              "      <td>-0.470401</td>\n",
              "      <td>0.207971</td>\n",
              "      <td>0.025791</td>\n",
              "      <td>0.403993</td>\n",
              "      <td>0.251412</td>\n",
              "      <td>-0.018307</td>\n",
              "      <td>0.277838</td>\n",
              "      <td>-0.110474</td>\n",
              "      <td>0.066928</td>\n",
              "      <td>0.128539</td>\n",
              "      <td>-0.189115</td>\n",
              "      <td>0.133558</td>\n",
              "      <td>-0.021053</td>\n",
              "      <td>149.62</td>\n",
              "      <td>0</td>\n",
              "    </tr>\n",
              "    <tr>\n",
              "      <th>1</th>\n",
              "      <td>0.0</td>\n",
              "      <td>1.191857</td>\n",
              "      <td>0.266151</td>\n",
              "      <td>0.166480</td>\n",
              "      <td>0.448154</td>\n",
              "      <td>0.060018</td>\n",
              "      <td>-0.082361</td>\n",
              "      <td>-0.078803</td>\n",
              "      <td>0.085102</td>\n",
              "      <td>-0.255425</td>\n",
              "      <td>-0.166974</td>\n",
              "      <td>1.612727</td>\n",
              "      <td>1.065235</td>\n",
              "      <td>0.489095</td>\n",
              "      <td>-0.143772</td>\n",
              "      <td>0.635558</td>\n",
              "      <td>0.463917</td>\n",
              "      <td>-0.114805</td>\n",
              "      <td>-0.183361</td>\n",
              "      <td>-0.145783</td>\n",
              "      <td>-0.069083</td>\n",
              "      <td>-0.225775</td>\n",
              "      <td>-0.638672</td>\n",
              "      <td>0.101288</td>\n",
              "      <td>-0.339846</td>\n",
              "      <td>0.167170</td>\n",
              "      <td>0.125895</td>\n",
              "      <td>-0.008983</td>\n",
              "      <td>0.014724</td>\n",
              "      <td>2.69</td>\n",
              "      <td>0</td>\n",
              "    </tr>\n",
              "    <tr>\n",
              "      <th>2</th>\n",
              "      <td>1.0</td>\n",
              "      <td>-1.358354</td>\n",
              "      <td>-1.340163</td>\n",
              "      <td>1.773209</td>\n",
              "      <td>0.379780</td>\n",
              "      <td>-0.503198</td>\n",
              "      <td>1.800499</td>\n",
              "      <td>0.791461</td>\n",
              "      <td>0.247676</td>\n",
              "      <td>-1.514654</td>\n",
              "      <td>0.207643</td>\n",
              "      <td>0.624501</td>\n",
              "      <td>0.066084</td>\n",
              "      <td>0.717293</td>\n",
              "      <td>-0.165946</td>\n",
              "      <td>2.345865</td>\n",
              "      <td>-2.890083</td>\n",
              "      <td>1.109969</td>\n",
              "      <td>-0.121359</td>\n",
              "      <td>-2.261857</td>\n",
              "      <td>0.524980</td>\n",
              "      <td>0.247998</td>\n",
              "      <td>0.771679</td>\n",
              "      <td>0.909412</td>\n",
              "      <td>-0.689281</td>\n",
              "      <td>-0.327642</td>\n",
              "      <td>-0.139097</td>\n",
              "      <td>-0.055353</td>\n",
              "      <td>-0.059752</td>\n",
              "      <td>378.66</td>\n",
              "      <td>0</td>\n",
              "    </tr>\n",
              "    <tr>\n",
              "      <th>3</th>\n",
              "      <td>1.0</td>\n",
              "      <td>-0.966272</td>\n",
              "      <td>-0.185226</td>\n",
              "      <td>1.792993</td>\n",
              "      <td>-0.863291</td>\n",
              "      <td>-0.010309</td>\n",
              "      <td>1.247203</td>\n",
              "      <td>0.237609</td>\n",
              "      <td>0.377436</td>\n",
              "      <td>-1.387024</td>\n",
              "      <td>-0.054952</td>\n",
              "      <td>-0.226487</td>\n",
              "      <td>0.178228</td>\n",
              "      <td>0.507757</td>\n",
              "      <td>-0.287924</td>\n",
              "      <td>-0.631418</td>\n",
              "      <td>-1.059647</td>\n",
              "      <td>-0.684093</td>\n",
              "      <td>1.965775</td>\n",
              "      <td>-1.232622</td>\n",
              "      <td>-0.208038</td>\n",
              "      <td>-0.108300</td>\n",
              "      <td>0.005274</td>\n",
              "      <td>-0.190321</td>\n",
              "      <td>-1.175575</td>\n",
              "      <td>0.647376</td>\n",
              "      <td>-0.221929</td>\n",
              "      <td>0.062723</td>\n",
              "      <td>0.061458</td>\n",
              "      <td>123.50</td>\n",
              "      <td>0</td>\n",
              "    </tr>\n",
              "    <tr>\n",
              "      <th>4</th>\n",
              "      <td>2.0</td>\n",
              "      <td>-1.158233</td>\n",
              "      <td>0.877737</td>\n",
              "      <td>1.548718</td>\n",
              "      <td>0.403034</td>\n",
              "      <td>-0.407193</td>\n",
              "      <td>0.095921</td>\n",
              "      <td>0.592941</td>\n",
              "      <td>-0.270533</td>\n",
              "      <td>0.817739</td>\n",
              "      <td>0.753074</td>\n",
              "      <td>-0.822843</td>\n",
              "      <td>0.538196</td>\n",
              "      <td>1.345852</td>\n",
              "      <td>-1.119670</td>\n",
              "      <td>0.175121</td>\n",
              "      <td>-0.451449</td>\n",
              "      <td>-0.237033</td>\n",
              "      <td>-0.038195</td>\n",
              "      <td>0.803487</td>\n",
              "      <td>0.408542</td>\n",
              "      <td>-0.009431</td>\n",
              "      <td>0.798278</td>\n",
              "      <td>-0.137458</td>\n",
              "      <td>0.141267</td>\n",
              "      <td>-0.206010</td>\n",
              "      <td>0.502292</td>\n",
              "      <td>0.219422</td>\n",
              "      <td>0.215153</td>\n",
              "      <td>69.99</td>\n",
              "      <td>0</td>\n",
              "    </tr>\n",
              "  </tbody>\n",
              "</table>\n",
              "</div>"
            ],
            "text/plain": [
              "   Time        V1        V2        V3  ...       V27       V28  Amount  Class\n",
              "0   0.0 -1.359807 -0.072781  2.536347  ...  0.133558 -0.021053  149.62      0\n",
              "1   0.0  1.191857  0.266151  0.166480  ... -0.008983  0.014724    2.69      0\n",
              "2   1.0 -1.358354 -1.340163  1.773209  ... -0.055353 -0.059752  378.66      0\n",
              "3   1.0 -0.966272 -0.185226  1.792993  ...  0.062723  0.061458  123.50      0\n",
              "4   2.0 -1.158233  0.877737  1.548718  ...  0.219422  0.215153   69.99      0\n",
              "\n",
              "[5 rows x 31 columns]"
            ]
          },
          "metadata": {},
          "execution_count": 2
        }
      ]
    },
    {
      "cell_type": "code",
      "metadata": {
        "id": "fnwrgFs4r5PX"
      },
      "source": [
        "# Preprocessing portion\n",
        "features = credit_data.drop(\"Class\", axis=1)\n",
        "target = credit_data.Class\n",
        "\n",
        "N, D = features.shape\n",
        "\n",
        "# Convert 1D array of targets to 2D numpy array of N rows and 1 column (target column).\n",
        "Y = np.reshape(target.values, (N, 1))\n",
        "X = features[['V1', 'Amount']].values\n",
        "\n",
        "def preprocess(features, targets):\n",
        "  X_train, X_test, y_train, y_test = train_test_split(features, target, test_size=0.3, stratify=credit_data['Class'], random_state=0)\n",
        "  return X_train, X_test, y_train, y_test"
      ],
      "execution_count": null,
      "outputs": []
    },
    {
      "cell_type": "code",
      "metadata": {
        "id": "ObaxmLjhVVYd"
      },
      "source": [
        "def sigmoid(x):\n",
        "  return 1 / (1 + np.exp(-x))\n",
        "\n",
        "def loss_function(y, y_hat):\n",
        "  \"\"\"\n",
        "  This function uses the log likelihood function as the loss/cost function.\n",
        "  \"\"\"\n",
        "  y = y.flatten()\n",
        "  y_hat = y_hat.flatten()\n",
        "\n",
        "  cost = 0\n",
        "  elp = 0.0000000000000000000000000000000000000000000001   # small error\n",
        "  for i in range(len(y)):\n",
        "      cost -= y[i] * np.log(y_hat[i] + elp) + (1 - y[i]) * np.log(1 - y_hat[i] + elp)\n",
        "  return cost\n",
        "\n",
        "def predict(weights, beta, X):\n",
        "  z = np.matmul(weights.T, X.T) + beta\n",
        "  result = sigmoid(z)\n",
        "  return result\n",
        "\n",
        "def predict_class(weights, beta, X):\n",
        "  predicted_class = predict(weights, beta, X)\n",
        "  return (predicted_class >= 0.5) * 1"
      ],
      "execution_count": null,
      "outputs": []
    },
    {
      "cell_type": "code",
      "metadata": {
        "id": "g9i71n_pbdsR"
      },
      "source": [
        "def error_rate(Y, P):\n",
        "  return np.mean(Y != P)"
      ],
      "execution_count": null,
      "outputs": []
    },
    {
      "cell_type": "code",
      "metadata": {
        "id": "rOpgZi8iRwL3"
      },
      "source": [
        "# Logistic Regression function \n",
        "\n",
        "def logistic_regression(X, Y, learning_rate=0.0000003, epoch=1000):\n",
        "  \"\"\"\n",
        "  This function fits the data into the logistic regression model.\n",
        "  - Uses batch gradient descent \n",
        "  - Algorithm uses number of epochs as termination condition\n",
        "  - Cost function: Log Likelihood function\n",
        "\n",
        "  Arguments: \n",
        "    X - features\n",
        "    Y - labels/target\n",
        "    learning_rate - learning_rate for the algorithm\n",
        "    epochs - Number of iterations.\n",
        "  \"\"\"\n",
        "  # Changing the datatypes of the features and target \n",
        "  X = np.array(X, dtype=\"float32\")\n",
        "  Y = np.array(Y, dtype=\"float32\")\n",
        "  \n",
        "  # Computind dimensions of X\n",
        "  N, D = X.shape\n",
        "  Y = Y.reshape(N, 1)\n",
        "  \n",
        "  # Initialising\n",
        "  dlt = np.zeros([N, 1], dtype=\"float32\")\n",
        "  dW = np.zeros([1, D], dtype=\"float32\")\n",
        "  db = 0\n",
        "  weights = np.zeros([D, 1], dtype=\"float32\")\n",
        "  beta = 0\n",
        "  c = []\n",
        "  \n",
        "  for n in range(epoch): # Termination is based on number of epochs\n",
        "      dlt = predict(weights, beta, X).T - Y  # X - row-wise vector, Y - column-wise vector, dlt - column wise vector\n",
        "      dW = np.matmul(dlt.T, X).T # dW - column vector \n",
        "      db = dlt.sum() / N \n",
        "\n",
        "      weights -= learning_rate * dW\n",
        "      beta -= learning_rate * db\n",
        "      if n % 1000 == 0:   \n",
        "          c_new = loss_function(Y, predict(weights, beta, X).T) \n",
        "          # print(\"Self.predict: \", predict(weights, beta, X).T)  # column vector\n",
        "          c.append(c_new)\n",
        "          err = error_rate(Y, predict_class(weights, beta, X).T)\n",
        "          print(\"-------------------------------------------------------------------------------------------------\")\n",
        "          print(\"Epoch: \", n//1000)\n",
        "          print(\"Error Rate: \", err)\n",
        "          print(\"Weights: \", weights.T)\n",
        "          print(\"Cost: \", c_new)\n",
        "          print(\"---------------------------------------------------------------------------------------------------\")\n",
        "  return weights, beta\n",
        "      "
      ],
      "execution_count": null,
      "outputs": []
    },
    {
      "cell_type": "markdown",
      "metadata": {
        "id": "VFMC_8pnfnUp"
      },
      "source": [
        "## Logistic Regression without Adversarial Samples"
      ]
    },
    {
      "cell_type": "markdown",
      "metadata": {
        "id": "k9tMYU5Ak5Hu"
      },
      "source": [
        "Here we train the model and obtain the weights of the model"
      ]
    },
    {
      "cell_type": "code",
      "metadata": {
        "id": "yK2rNYW1Mvn1"
      },
      "source": [
        "X = features[['V1', 'V2']]\n",
        "Y = credit_data['Class']\n",
        "Y = np.reshape(Y.values, (N, 1))\n",
        "train_x, test_x, train_y, test_y = preprocess(X, Y)"
      ],
      "execution_count": null,
      "outputs": []
    },
    {
      "cell_type": "code",
      "metadata": {
        "colab": {
          "base_uri": "https://localhost:8080/"
        },
        "id": "2dNIDAnkU8_r",
        "outputId": "15623c3a-95de-4763-8f14-1002e0c346d5"
      },
      "source": [
        "# Logistic Regression without Adversarial Samples\n",
        "weights, beta = logistic_regression(X, Y, learning_rate=0.0005, epoch=20000)"
      ],
      "execution_count": null,
      "outputs": [
        {
          "output_type": "stream",
          "name": "stdout",
          "text": [
            "-------------------------------------------------------------------------------------------------\n",
            "Epoch:  0\n",
            "Error Rate:  0.5034672602850351\n",
            "Weights:  [[-1.1738994  0.891449 ]]\n",
            "Cost:  386073.8591733851\n",
            "---------------------------------------------------------------------------------------------------\n"
          ]
        },
        {
          "output_type": "stream",
          "name": "stderr",
          "text": [
            "/usr/local/lib/python3.7/dist-packages/ipykernel_launcher.py:2: RuntimeWarning: overflow encountered in exp\n",
            "  \n"
          ]
        },
        {
          "output_type": "stream",
          "name": "stdout",
          "text": [
            "-------------------------------------------------------------------------------------------------\n",
            "Epoch:  1\n",
            "Error Rate:  0.5137338618783949\n",
            "Weights:  [[-91.30791  32.79654]]\n",
            "Cost:  14971366.584786674\n",
            "---------------------------------------------------------------------------------------------------\n",
            "-------------------------------------------------------------------------------------------------\n",
            "Epoch:  2\n",
            "Error Rate:  0.5135758601438869\n",
            "Weights:  [[-92.810356  33.222885]]\n",
            "Cost:  14970751.073567117\n",
            "---------------------------------------------------------------------------------------------------\n",
            "-------------------------------------------------------------------------------------------------\n",
            "Epoch:  3\n",
            "Error Rate:  0.5136601277356245\n",
            "Weights:  [[-94.66993   23.979391]]\n",
            "Cost:  14668117.327492265\n",
            "---------------------------------------------------------------------------------------------------\n",
            "-------------------------------------------------------------------------------------------------\n",
            "Epoch:  4\n",
            "Error Rate:  0.5129403420561994\n",
            "Weights:  [[-79.93044   29.391973]]\n",
            "Cost:  14803559.814420588\n",
            "---------------------------------------------------------------------------------------------------\n",
            "-------------------------------------------------------------------------------------------------\n",
            "Epoch:  5\n",
            "Error Rate:  0.5127963849203144\n",
            "Weights:  [[-81.09579  29.74284]]\n",
            "Cost:  14800801.24428608\n",
            "---------------------------------------------------------------------------------------------------\n",
            "-------------------------------------------------------------------------------------------------\n",
            "Epoch:  6\n",
            "Error Rate:  0.5124312253561184\n",
            "Weights:  [[-92.66895   36.150948]]\n",
            "Cost:  14959171.39286354\n",
            "---------------------------------------------------------------------------------------------------\n",
            "-------------------------------------------------------------------------------------------------\n",
            "Epoch:  7\n",
            "Error Rate:  0.5122626901726433\n",
            "Weights:  [[-78.20632   28.776474]]\n",
            "Cost:  14714320.044469565\n",
            "---------------------------------------------------------------------------------------------------\n",
            "-------------------------------------------------------------------------------------------------\n",
            "Epoch:  8\n",
            "Error Rate:  0.5121573556829713\n",
            "Weights:  [[-83.148575  30.307758]]\n",
            "Cost:  14772669.748262728\n",
            "---------------------------------------------------------------------------------------------------\n",
            "-------------------------------------------------------------------------------------------------\n",
            "Epoch:  9\n",
            "Error Rate:  0.5122030006284958\n",
            "Weights:  [[-94.09819   33.560562]]\n",
            "Cost:  14886698.541177467\n",
            "---------------------------------------------------------------------------------------------------\n",
            "-------------------------------------------------------------------------------------------------\n",
            "Epoch:  10\n",
            "Error Rate:  0.511781662669808\n",
            "Weights:  [[-86.25006   31.185347]]\n",
            "Cost:  14775837.513883589\n",
            "---------------------------------------------------------------------------------------------------\n",
            "-------------------------------------------------------------------------------------------------\n",
            "Epoch:  11\n",
            "Error Rate:  0.5072663242125369\n",
            "Weights:  [[-75.72372  46.38665]]\n",
            "Cost:  14781781.475072278\n",
            "---------------------------------------------------------------------------------------------------\n",
            "-------------------------------------------------------------------------------------------------\n",
            "Epoch:  12\n",
            "Error Rate:  0.5108687637593177\n",
            "Weights:  [[-78.63372   30.970081]]\n",
            "Cost:  14702652.092397103\n",
            "---------------------------------------------------------------------------------------------------\n",
            "-------------------------------------------------------------------------------------------------\n",
            "Epoch:  13\n",
            "Error Rate:  0.5106019163854821\n",
            "Weights:  [[-79.94863  32.43786]]\n",
            "Cost:  14737485.924150981\n",
            "---------------------------------------------------------------------------------------------------\n",
            "-------------------------------------------------------------------------------------------------\n",
            "Epoch:  14\n",
            "Error Rate:  0.5109249421538095\n",
            "Weights:  [[-86.29962   31.049713]]\n",
            "Cost:  14696457.648718592\n",
            "---------------------------------------------------------------------------------------------------\n",
            "-------------------------------------------------------------------------------------------------\n",
            "Epoch:  15\n",
            "Error Rate:  0.5101630226785157\n",
            "Weights:  [[-88.340546  38.235146]]\n",
            "Cost:  14851855.890618112\n",
            "---------------------------------------------------------------------------------------------------\n",
            "-------------------------------------------------------------------------------------------------\n",
            "Epoch:  16\n",
            "Error Rate:  0.5106475613310066\n",
            "Weights:  [[-89.04149   29.752241]]\n",
            "Cost:  14623489.847825034\n",
            "---------------------------------------------------------------------------------------------------\n",
            "-------------------------------------------------------------------------------------------------\n",
            "Epoch:  17\n",
            "Error Rate:  0.5104088031544168\n",
            "Weights:  [[-91.30706   27.928082]]\n",
            "Cost:  14537963.72195463\n",
            "---------------------------------------------------------------------------------------------------\n",
            "-------------------------------------------------------------------------------------------------\n",
            "Epoch:  18\n",
            "Error Rate:  0.510222712222663\n",
            "Weights:  [[-92.24442   28.851877]]\n",
            "Cost:  14563357.888413675\n",
            "---------------------------------------------------------------------------------------------------\n",
            "-------------------------------------------------------------------------------------------------\n",
            "Epoch:  19\n",
            "Error Rate:  0.5097276401212049\n",
            "Weights:  [[-88.06717   27.026573]]\n",
            "Cost:  14445523.98759203\n",
            "---------------------------------------------------------------------------------------------------\n"
          ]
        }
      ]
    },
    {
      "cell_type": "code",
      "metadata": {
        "colab": {
          "base_uri": "https://localhost:8080/"
        },
        "id": "XdtxxfgBo4Wb",
        "outputId": "cb28eaac-6b0a-423f-d537-85c8c04bcfc7"
      },
      "source": [
        "y_pred_train_org = predict_class(weights, beta, train_x.values).T\n",
        "print(\"Training Results\")\n",
        "print('Error Rate without adversarial examples:', error_rate(train_y.values.reshape(train_x.shape[0], 1), predict_class(weights, beta, train_x.values).T))\n",
        "print(\"Testing Results\")\n",
        "print('Error Rate without adversarial examples:', error_rate(test_y.values.reshape(test_x.shape[0], 1), predict_class(weights, beta, test_x.values).T))\n",
        "y_pred_test_org = predict_class(weights, beta, test_x.values).T"
      ],
      "execution_count": null,
      "outputs": [
        {
          "output_type": "stream",
          "name": "stdout",
          "text": [
            "Training Results\n",
            "Error Rate without adversarial examples: 0.4631678738388074\n",
            "Testing Results\n",
            "Error Rate without adversarial examples: 0.4637009468300504\n"
          ]
        }
      ]
    },
    {
      "cell_type": "markdown",
      "metadata": {
        "id": "5jhyElWpd8bw"
      },
      "source": [
        "## Logistic Regression with Adversarial Samples (FGSM Method)"
      ]
    },
    {
      "cell_type": "markdown",
      "metadata": {
        "id": "eBueZsJLvQZL"
      },
      "source": [
        "* In gradient descent, the gradient of cost is with respect to weight\n",
        "* In adversarial examples, the gradient of cost is with respect to data "
      ]
    },
    {
      "cell_type": "markdown",
      "metadata": {
        "id": "fzKnTu4cvlDZ"
      },
      "source": [
        "![image.png](data:image/png;base64,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)"
      ]
    },
    {
      "cell_type": "code",
      "metadata": {
        "id": "FMe0cNUkf_9F"
      },
      "source": [
        "def adversial_samples(X, Y, weights, beta, epsilon=0.00001):\n",
        "    dlt = predict(weights, beta, X).T - Y.reshape(X.shape[0], 1)\n",
        "    direction = np.sign(np.matmul(dlt, weights.T))\n",
        "    return X + epsilon * direction, Y"
      ],
      "execution_count": null,
      "outputs": []
    },
    {
      "cell_type": "code",
      "metadata": {
        "colab": {
          "base_uri": "https://localhost:8080/"
        },
        "id": "FpkSghgleNS9",
        "outputId": "ab23ede0-a388-46f7-e259-c3eaa3d9ef63"
      },
      "source": [
        "# Here we tweak the gradient and make predictions\n",
        "Xadv, Yadv = adversial_samples(test_x.values, test_y.values, weights, beta, epsilon=0.5)\n",
        "y_pred_adv = predict_class(weights, beta, Xadv).T\n",
        "print('Error Rate with adversarial examples, epsilon = 0.5:', error_rate(Yadv.reshape(Xadv.shape[0], 1), predict_class(weights, beta, Xadv).T))\n",
        "\n",
        "Xadv2, Yadv2 = adversial_samples(test_x.values, test_y.values, weights, beta, epsilon=3.5)\n",
        "y_pred_adv2 = predict_class(weights, beta, Xadv2).T\n",
        "print('Error Rate with adversarial examples, epsilon = 3.5:', error_rate(Yadv2.reshape(Xadv2.shape[0], 1), predict_class(weights, beta, Xadv2).T))\n"
      ],
      "execution_count": null,
      "outputs": [
        {
          "output_type": "stream",
          "name": "stdout",
          "text": [
            "Error Rate with adversarial examples, epsilon = 0.5: 0.5011177042004611\n",
            "Error Rate with adversarial examples, epsilon = 3.5: 0.9695001345926524\n"
          ]
        }
      ]
    },
    {
      "cell_type": "markdown",
      "metadata": {
        "id": "Q3nw-hyksWl2"
      },
      "source": [
        "## Evaluation metrics"
      ]
    },
    {
      "cell_type": "code",
      "metadata": {
        "id": "v9QaVfJGsacA"
      },
      "source": [
        "# Function to calculate the accuracy\n",
        "def accuracy_results(preds, y_true):\n",
        "  tp = 0\n",
        "  tn = 0\n",
        "  fp = 0 \n",
        "  fn = 0\n",
        "\n",
        "  for i in range(len(preds)):\n",
        "    if preds[i] == 1 and y_true[i] == 1:\n",
        "      tp += 1\n",
        "    elif preds[i] == 1 and y_true[i] == 0:\n",
        "      fp += 1\n",
        "    elif preds[i] == 0 and y_true[i] == 0:\n",
        "      tn += 1\n",
        "    elif preds[i] == 0 and y_true[i] == 1:\n",
        "      fn += 1\n",
        "  acc = (tp + tn) / (tp + fp + fn + tn) \n",
        "  return acc\n",
        "\n",
        "# Function to calculate the precision, recall and F1-score\n",
        "def precision_recall_f1_score(preds, y_true):\n",
        "  tp = 0\n",
        "  tn = 0\n",
        "  fn = 0\n",
        "  fp = 0\n",
        "  p = 0\n",
        "  n = 0\n",
        "  precision = 0\n",
        "  recall = 0\n",
        "  f1_score = 0\n",
        "  tpr = 0\n",
        "  fpr = 0\n",
        "  for i in range(len(y_true)):\n",
        "    if y_true[i] == 0:\n",
        "      n += 1\n",
        "    else:\n",
        "      p += 1\n",
        "  for i in range(len(preds)):\n",
        "    if preds[i] == 1 and y_true[i] == 1:\n",
        "      tp += 1\n",
        "    elif preds[i] == 1 and y_true[i] == 0:\n",
        "      fp += 1\n",
        "    elif preds[i] == 0 and y_true[i] == 0:\n",
        "      tn += 1\n",
        "    elif preds[i] == 0 and y_true[i] == 1:\n",
        "      fn += 1\n",
        "\n",
        "  precision = tp / (tp + fp)\n",
        "  recall = tp / (tp + fn)\n",
        "  if precision != 0 and recall != 0:\n",
        "    f1_score = (2 * precision * recall) / (precision + recall)\n",
        "  tpr = tp / p\n",
        "  fpr = fp / n\n",
        "  if precision != 0 and recall != 0 and f1_score != 0 and tpr != 0 and fpr != 0:\n",
        "    return (precision, recall, f1_score, tpr, fpr)\n",
        "  else:\n",
        "    return (0, 0, 0, 0, 0)  "
      ],
      "execution_count": null,
      "outputs": []
    },
    {
      "cell_type": "code",
      "metadata": {
        "colab": {
          "base_uri": "https://localhost:8080/"
        },
        "id": "qixdHxWZwcly",
        "outputId": "b1bf12ba-d38f-4525-a889-83183fc9ee4f"
      },
      "source": [
        "predictions = [y_pred_test_org, y_pred_adv, y_pred_adv2]\n",
        "labels = [\"Original\", \"Adversarial with 0.5 error\", \"Advarsarial with 3.5 error\"]\n",
        "accuracies = []\n",
        "\n",
        "for i in range(len(predictions)):\n",
        "  pred = predictions[i]\n",
        "  acc = accuracy_results(pred, test_y.values)\n",
        "  accuracies.append(acc)\n",
        "  precision, recall, f1_score, tpr, fpr = precision_recall_f1_score(pred, test_y.values)\n",
        "  print(\"-----------------------------------------------------------------------------------------------\")\n",
        "  print(f\"\\Tag: {labels[i]}\\n\")\n",
        "  print(f\"Accuracy: {acc}\")\n",
        "  print(f\"Precision: {precision}\")\n",
        "  print(f\"Recall: {recall}\")\n",
        "  print(f\"F1-score: {f1_score}\")\n",
        "  print(f\"TPR: {tpr} \\nFPR:{fpr}\")\n",
        "  print(\"-----------------------------------------------------------------------------------------------\")"
      ],
      "execution_count": null,
      "outputs": [
        {
          "output_type": "stream",
          "name": "stdout",
          "text": [
            "-----------------------------------------------------------------------------------------------\n",
            "\\Tag: Original\n",
            "\n",
            "Accuracy: 0.9906604402935291\n",
            "Precision: 0.028985507246376812\n",
            "Recall: 0.13513513513513514\n",
            "F1-score: 0.04773269689737471\n",
            "TPR: 0.13513513513513514 \n",
            "FPR:0.00785509115422944\n",
            "-----------------------------------------------------------------------------------------------\n",
            "-----------------------------------------------------------------------------------------------\n",
            "\\Tag: Adversarial with 0.5 error\n",
            "\n",
            "Accuracy: 0.9729878398464473\n",
            "Precision: 0.00684931506849315\n",
            "Recall: 0.10135135135135136\n",
            "F1-score: 0.012831479897348159\n",
            "TPR: 0.10135135135135136 \n",
            "FPR:0.025499736209625416\n",
            "-----------------------------------------------------------------------------------------------\n",
            "-----------------------------------------------------------------------------------------------\n",
            "\\Tag: Advarsarial with 3.5 error\n",
            "\n",
            "Accuracy: 0.7830249406036773\n",
            "Precision: 0.0008142880408229738\n",
            "Recall: 0.10135135135135136\n",
            "F1-score: 0.0016155958856158114\n",
            "TPR: 0.10135135135135136 \n",
            "FPR:0.2157922504249956\n",
            "-----------------------------------------------------------------------------------------------\n"
          ]
        }
      ]
    },
    {
      "cell_type": "code",
      "metadata": {
        "id": "ufYjqEpkAlO3"
      },
      "source": [
        "import itertools\n",
        "\n",
        "def plot_confusion_matrix(test, preds):\n",
        "  figsize = (10, 10)\n",
        "\n",
        "  # Create the confusion matrix\n",
        "  cm = confusion_matrix(test, preds)\n",
        "  cm_norm = cm.astype(\"float\") / cm.sum(axis=1)[:, np.newaxis] # normalize it\n",
        "  n_classes = cm.shape[0]\n",
        "\n",
        "  fig, ax = plt.subplots(figsize=figsize)\n",
        "  # Create a matrix plot\n",
        "  cax = ax.matshow(cm, cmap=plt.cm.Blues)\n",
        "  fig.colorbar(cax)\n",
        "\n",
        "  # Create classes\n",
        "  classes = False\n",
        "\n",
        "  if classes:\n",
        "    labels = classes\n",
        "  else:\n",
        "    labels = np.arange(cm.shape[0])\n",
        "\n",
        "  # Label the axes\n",
        "  ax.set(title=\"Confusion Matrix\",\n",
        "        xlabel=\"Predicted label\",\n",
        "        ylabel=\"True label\",\n",
        "        xticks=np.arange(n_classes),\n",
        "        yticks=np.arange(n_classes),\n",
        "        xticklabels=labels,\n",
        "        yticklabels=labels)\n",
        "\n",
        "  # Set x-axis labels to bottom\n",
        "  ax.xaxis.set_label_position(\"bottom\")\n",
        "  ax.xaxis.tick_bottom()\n",
        "\n",
        "  # Adjust label size\n",
        "  ax.xaxis.label.set_size(20)\n",
        "  ax.yaxis.label.set_size(20)\n",
        "  ax.title.set_size(20)\n",
        "\n",
        "  # Set threshold for different colors\n",
        "  threshold = (cm.max() + cm.min()) / 2.\n",
        "\n",
        "  # Plot the text on each cell\n",
        "  for i, j in itertools.product(range(cm.shape[0]), range(cm.shape[1])):\n",
        "    plt.text(j, i, f\"{cm[i, j]} ({cm_norm[i, j]*100:.1f}%)\",\n",
        "            horizontalalignment=\"center\",\n",
        "            color=\"white\" if cm[i, j] > threshold else \"black\",\n",
        "            size=15)"
      ],
      "execution_count": null,
      "outputs": []
    },
    {
      "cell_type": "code",
      "metadata": {
        "colab": {
          "base_uri": "https://localhost:8080/",
          "height": 1000
        },
        "id": "tWmxTniOBC1g",
        "outputId": "15cb4097-0837-4a22-d85e-138744c9cb53"
      },
      "source": [
        "for i in range(len(predictions)):\n",
        "  plot_confusion_matrix(test_y.values, predictions[i])"
      ],
      "execution_count": null,
      "outputs": [
        {
          "output_type": "display_data",
          "data": {
            "image/png": "[encoded data removed]",
            "text/plain": [
              "<Figure size 720x720 with 2 Axes>"
            ]
          },
          "metadata": {
            "needs_background": "light"
          }
        },
        {
          "output_type": "display_data",
          "data": {
            "image/png": "[encoded data removed]",
            "text/plain": [
              "<Figure size 720x720 with 2 Axes>"
            ]
          },
          "metadata": {
            "needs_background": "light"
          }
        },
        {
          "output_type": "display_data",
          "data": {
            "image/png": "[encoded data removed]",
            "text/plain": [
              "<Figure size 720x720 with 2 Axes>"
            ]
          },
          "metadata": {
            "needs_background": "light"
          }
        }
      ]
    },
    {
      "cell_type": "markdown",
      "metadata": {
        "id": "tGOan6M5xUKe"
      },
      "source": [
        "## Visual Representation"
      ]
    },
    {
      "cell_type": "code",
      "metadata": {
        "id": "e4FfofLO1NnJ",
        "colab": {
          "base_uri": "https://localhost:8080/",
          "height": 265
        },
        "outputId": "eb97bd82-f6d3-44b4-823d-f7e5d5b6e03f"
      },
      "source": [
        "plt.scatter(test_x.values[:999, 0], test_x.values[:999, 1], color='red', alpha=0.4, label='Original Data')\n",
        "plt.scatter(Xadv[:999, 0], Xadv[:999, 1], color='blue', alpha=0.4, label='Adversarial Examples, Epsilon = 0.5')\n",
        "plt.legend(loc='best')\n",
        "plt.show()"
      ],
      "execution_count": null,
      "outputs": [
        {
          "output_type": "display_data",
          "data": {
            "image/png": "[encoded data removed]",
            "text/plain": [
              "<Figure size 432x288 with 1 Axes>"
            ]
          },
          "metadata": {
            "needs_background": "light"
          }
        }
      ]
    },
    {
      "cell_type": "code",
      "metadata": {
        "colab": {
          "base_uri": "https://localhost:8080/",
          "height": 265
        },
        "id": "0uUh1qnKm2gd",
        "outputId": "1bf5f908-cead-4125-e78b-b475c42bd0fd"
      },
      "source": [
        "plt.scatter(test_x.values[:9999, 0], test_x.values[:9999, 1], color='red', alpha=0.4, label='Original Data')\n",
        "plt.scatter(Xadv2[:9999, 0], Xadv2[:9999, 1], color='yellow', alpha=0.4, label='Adversarial Examples, Epsilon = 3.5')\n",
        "plt.legend(loc='best')\n",
        "plt.show()"
      ],
      "execution_count": null,
      "outputs": [
        {
          "output_type": "display_data",
          "data": {
            "image/png": "[encoded data removed]",
            "text/plain": [
              "<Figure size 432x288 with 1 Axes>"
            ]
          },
          "metadata": {
            "needs_background": "light"
          }
        }
      ]
    }
  ]
}